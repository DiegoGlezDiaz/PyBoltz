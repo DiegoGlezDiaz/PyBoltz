{
 "cells": [
  {
   "cell_type": "code",
   "execution_count": 1,
   "metadata": {},
   "outputs": [],
   "source": [
    "import numpy as np\n",
    "import pylab\n",
    "\n",
    "from PyBoltzRun import *"
   ]
  },
  {
   "cell_type": "code",
   "execution_count": 2,
   "metadata": {},
   "outputs": [],
   "source": [
    "# Set up helper object\n",
    "PBRun=PyBoltzRun()"
   ]
  },
  {
   "cell_type": "code",
   "execution_count": 3,
   "metadata": {},
   "outputs": [
    {
     "name": "stdout",
     "output_type": "stream",
     "text": [
      "CF4 1\n",
      "ARGON 2\n",
      "HELIUM4 3\n",
      "HELIUM3 4\n",
      "NEON 5\n",
      "KRYPTON 6\n",
      "XENON 7\n",
      "CH4 8\n",
      "ETHANE 9\n",
      "PROPANE 10\n",
      "ISOBUTANE 11\n",
      "CO2 12\n",
      "H2O 14\n",
      "OXYGEN 15\n",
      "NITROGEN 16\n",
      "HYDROGEN 21\n",
      "DEUTERIUM 22\n",
      "DME 25\n"
     ]
    }
   ],
   "source": [
    "# Show list of available gases\n",
    "PBRun.ListGases()"
   ]
  },
  {
   "cell_type": "code",
   "execution_count": 4,
   "metadata": {},
   "outputs": [],
   "source": [
    "# Configure settings for our simulation\n",
    "MySettings   ={'Gases'                 :['ARGON','CH4'],\n",
    "               'Fractions'             :[85,15],\n",
    "               'Max_collisions'        :1,\n",
    "               'EField_Vcm'            :100,\n",
    "               'Max_electron_energy'   :0,\n",
    "               'Temperature_C'         :23,\n",
    "               'Pressure_Torr'         :7500.062,\n",
    "               'BField_Tesla'          :0,\n",
    "               'BField_angle'          :0,\n",
    "               'Angular_dist_model'    :1,\n",
    "               'Enable_penning'        :0,\n",
    "               'Enable_thermal_motion' :1,\n",
    "               'OF'                    :0}"
   ]
  },
  {
   "cell_type": "code",
   "execution_count": 5,
   "metadata": {},
   "outputs": [],
   "source": [
    "# Create empty lists to store outputs\n",
    "DriftVels=[]\n",
    "DriftVels_err=[]\n",
    "DTs=[]\n",
    "DLs=[]\n",
    "DT1s=[]\n",
    "DL1s=[]\n",
    "DTs_err=[]\n",
    "DLs_err=[]\n",
    "DT1s_err=[]\n",
    "DL1s_err=[]"
   ]
  },
  {
   "cell_type": "code",
   "execution_count": 6,
   "metadata": {},
   "outputs": [
    {
     "name": "stdout",
     "output_type": "stream",
     "text": [
      "Running with E Field 100\n",
      "ARGON\n",
      "Finding the upper limit of electron energy\n",
      "Running with E Field 200\n",
      "ARGON\n",
      "Finding the upper limit of electron energy\n",
      "ARGON\n",
      "Finding the upper limit of electron energy\n",
      "Running with E Field 300\n",
      "ARGON\n",
      "Finding the upper limit of electron energy\n",
      "ARGON\n",
      "Finding the upper limit of electron energy\n",
      "Running with E Field 400\n",
      "ARGON\n",
      "Finding the upper limit of electron energy\n",
      "ARGON\n",
      "Finding the upper limit of electron energy\n",
      "ARGON\n",
      "Finding the upper limit of electron energy\n",
      "Running with E Field 500\n",
      "ARGON\n",
      "Finding the upper limit of electron energy\n",
      "ARGON\n",
      "Finding the upper limit of electron energy\n",
      "ARGON\n",
      "Finding the upper limit of electron energy\n"
     ]
    }
   ],
   "source": [
    "# Run for each E field\n",
    "\n",
    "EFields=np.arange(100,600,100)\n",
    "\n",
    "for E in EFields:\n",
    "    print(\"Running with E Field \" +str(E))\n",
    "\n",
    "    MySettings['EField_Vcm']=E\n",
    "    \n",
    "    Output=PBRun.Run(MySettings)\n",
    "\n",
    "    DriftVels.append(Output['Drift_vel'].val[2])\n",
    "    DriftVels_err.append(Output['Drift_vel'].err[2])\n",
    "\n",
    "    DTs.append(Output['DT'].val)\n",
    "    DTs_err.append(Output['DT'].err)\n",
    "    \n",
    "    DLs.append(Output['DL'].val)\n",
    "    DLs_err.append(Output['DL'].err)\n",
    "    \n",
    "    DT1s.append(Output['DT'].val)\n",
    "    DT1s_err.append(Output['DT'].err)\n",
    "\n",
    "    DL1s.append(Output['DL'].val)\n",
    "    DL1s_err.append(Output['DL'].err)\n"
   ]
  },
  {
   "cell_type": "code",
   "execution_count": 7,
   "metadata": {},
   "outputs": [
    {
     "data": {
      "text/plain": [
       "<ErrorbarContainer object of 3 artists>"
      ]
     },
     "execution_count": 7,
     "metadata": {},
     "output_type": "execute_result"
    },
    {
     "data": {
      "image/png": "[encoded data removed]",
      "text/plain": [
       "<Figure size 432x288 with 1 Axes>"
      ]
     },
     "metadata": {
      "needs_background": "light"
     },
     "output_type": "display_data"
    }
   ],
   "source": [
    "pylab.errorbar(EFields,DriftVels,DriftVels_err)"
   ]
  },
  {
   "cell_type": "code",
   "execution_count": 8,
   "metadata": {},
   "outputs": [
    {
     "ename": "ModuleNotFoundError",
     "evalue": "No module named 'energylimits'",
     "output_type": "error",
     "traceback": [
      "\u001b[0;31m---------------------------------------------------------------------------\u001b[0m",
      "\u001b[0;31mModuleNotFoundError\u001b[0m                       Traceback (most recent call last)",
      "\u001b[0;32m<ipython-input-8-5f12b9e30ca9>\u001b[0m in \u001b[0;36m<module>\u001b[0;34m\u001b[0m\n\u001b[0;32m----> 1\u001b[0;31m \u001b[0;32mimport\u001b[0m \u001b[0menergylimits\u001b[0m\u001b[0;34m\u001b[0m\u001b[0;34m\u001b[0m\u001b[0m\n\u001b[0m\u001b[1;32m      2\u001b[0m \u001b[0mhelp\u001b[0m\u001b[0;34m(\u001b[0m\u001b[0menergylimits\u001b[0m\u001b[0;34m)\u001b[0m\u001b[0;34m\u001b[0m\u001b[0;34m\u001b[0m\u001b[0m\n",
      "\u001b[0;31mModuleNotFoundError\u001b[0m: No module named 'energylimits'"
     ]
    }
   ],
   "source": [
    "import energylimits\n",
    "help(energylimits)"
   ]
  },
  {
   "cell_type": "code",
   "execution_count": null,
   "metadata": {},
   "outputs": [],
   "source": [
    "from energylimits import *"
   ]
  },
  {
   "cell_type": "code",
   "execution_count": null,
   "metadata": {},
   "outputs": [],
   "source": [
    "EnergyLimitT.EnergyLimitT"
   ]
  },
  {
   "cell_type": "code",
   "execution_count": null,
   "metadata": {},
   "outputs": [],
   "source": []
  }
 ],
 "metadata": {
  "kernelspec": {
   "display_name": "Python 3",
   "language": "python",
   "name": "python3"
  },
  "language_info": {
   "codemirror_mode": {
    "name": "ipython",
    "version": 3
   },
   "file_extension": ".py",
   "mimetype": "text/x-python",
   "name": "python",
   "nbconvert_exporter": "python",
   "pygments_lexer": "ipython3",
   "version": "3.7.2"
  }
 },
 "nbformat": 4,
 "nbformat_minor": 2
}
